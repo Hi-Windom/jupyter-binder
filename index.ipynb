{
 "cells": [
  {
   "attachments": {},
   "cell_type": "markdown",
   "id": "9ce9dc8a-37bd-4c05-b88e-df5801d2a93e",
   "metadata": {},
   "source": [
    "<h1 id=\"原生依赖管理\">原生依赖管理</h1>\n",
    "<blockquote>\n",
    "<p>不推荐使用</p>\n",
    "</blockquote>"
   ]
  },
  {
   "cell_type": "code",
   "execution_count": null,
   "id": "ab1bac9c-ce31-4810-acea-014bdd6cd7fa",
   "metadata": {
    "tags": []
   },
   "outputs": [],
   "source": [
    "!pip freeze > dirty.requirements.txt"
   ]
  },
  {
   "cell_type": "code",
   "execution_count": null,
   "id": "b976282d-8cf5-44f8-bddb-f657d253dc70",
   "metadata": {
    "tags": []
   },
   "outputs": [],
   "source": [
    "%pip install -r dirty.requirements.txt -i https://mirrors.tencent.com/pypi/simple"
   ]
  },
  {
   "attachments": {},
   "cell_type": "markdown",
   "id": "a428e102-eb76-49bf-bb8e-7267cfae5f4a",
   "metadata": {
    "tags": []
   },
   "source": [
    "<h1 id=\"适用于Binder的依赖管理\">适用于<span style=\"font-size: 24pt;\"><a style=\"font-weight: 400; color: #3598db;\" href=\"https://mybinder.org/\" target=\"_blank\" rel=\"noopener\">Binder</a></span>的依赖管理</h1>"
   ]
  },
  {
   "attachments": {},
   "cell_type": "markdown",
   "id": "b26d6ee8-fd2b-4e9c-9453-678d8cb544af",
   "metadata": {},
   "source": [
    "<p><span style=\"color: #169179;\">生成 binder 专用的依赖清单（linux）应当在 linux 环境下进行，Windows 电脑可使用 WSL2，建议的发行版是 Debian 11</span></p>\n",
    "<p><span style=\"color: #169179;\">首先运行命令 <code>pip -V</code> 检查，Python 版本应当与 <code>runtime.txt</code> 约定的一致</span></p>\n",
    "<p><span style=\"color: #169179;\">确认生成 requirements.txt &nbsp;</span><span style=\"color: #169179;\"><code>pip-compile --quiet --upgrade --resolver=backtracking requirements.in</code></span></p>\n",
    "<p>&nbsp;</p>"
   ]
  },
  {
   "attachments": {},
   "cell_type": "markdown",
   "id": "b8ade299-2fbd-435f-8e78-e56f0eab7e76",
   "metadata": {},
   "source": [
    "<h1>甜蜜蜜的依赖管理</h1>"
   ]
  },
  {
   "attachments": {},
   "cell_type": "markdown",
   "id": "6281db30-496b-4496-a16f-f78650012617",
   "metadata": {},
   "source": [
    "<p><span style=\"color: #169179;\">这是绝佳的依赖管理，只需要保持一致的 Windows + Python 3.10</span></p>\n",
    "<p><span style=\"color: #169179;\">根据 README.md 复苏说明，随时随地部署 Jupyter Lab ，就如同安装普通软件一样简单</span></p>"
   ]
  },
  {
   "cell_type": "code",
   "execution_count": null,
   "id": "acaff651-0be6-41d2-b41a-0ea552b813fa",
   "metadata": {},
   "outputs": [],
   "source": [
    "# %pip install pip-tools -i https://mirrors.tencent.com/pypi/simple"
   ]
  },
  {
   "cell_type": "code",
   "execution_count": 6,
   "id": "208ebefc-053d-486d-af30-3d95e3eee16f",
   "metadata": {
    "execution": {
     "iopub.execute_input": "2023-02-25T03:49:59.368407Z",
     "iopub.status.busy": "2023-02-25T03:49:59.368407Z",
     "iopub.status.idle": "2023-02-25T03:53:05.947878Z",
     "shell.execute_reply": "2023-02-25T03:53:05.947878Z",
     "shell.execute_reply.started": "2023-02-25T03:49:59.368407Z"
    },
    "tags": []
   },
   "outputs": [
    {
     "name": "stderr",
     "output_type": "stream",
     "text": [
      "WARNING:pip._internal.metadata.base:Ignoring invalid distribution -upyter-core (d:\\x-s01\\conda3\\envs\\vsc\\lib\\site-packages)\n",
      "  ERROR: Could not find a version that satisfies the requirement jupyterlab>=4.0.0 (from versions: 0.0.2, 0.0.3, 0.0.4, 0.0.5, 0.0.6, 0.0.7, 0.0.8, 0.0.9, 0.0.10, 0.0.13, 0.1.1, 0.1.2, 0.2.0, 0.3.0, 0.4.0, 0.4.1, 0.5.0, 0.6.0, 0.7.0, 0.8.0, 0.9.0, 0.9.1, 0.10.0, 0.11.0, 0.11.1, 0.11.2, 0.11.3, 0.12.0, 0.12.1, 0.13.0, 0.13.1, 0.13.2, 0.14.0, 0.15.0, 0.15.1, 0.16.0, 0.16.2, 0.17.0, 0.17.1, 0.17.2, 0.17.4, 0.17.5, 0.18.0.dev1, 0.18.0, 0.18.1, 0.19.0, 0.20.0rc1, 0.20.0, 0.20.1, 0.20.2, 0.20.3, 0.20.4, 0.21.0rc1, 0.21.0rc2, 0.21.0rc3, 0.21.0rc4, 0.21.0rc5, 0.21.0, 0.22.0rc0, 0.22.0, 0.22.1, 0.23.0rc0, 0.23.0rc1, 0.23.0, 0.23.1, 0.23.2, 0.24.0rc0, 0.24.0rc1, 0.24.0rc2, 0.24.0, 0.24.1, 0.25.0rc0, 0.25.0rc1, 0.25.0, 0.25.1, 0.25.2rc0, 0.25.2, 0.26.0rc0, 0.26.0rc1, 0.26.0, 0.26.1, 0.26.2, 0.26.3, 0.26.4, 0.26.5, 0.27.0rc0, 0.27.0rc1, 0.27.0rc2, 0.27.0rc3, 0.27.0rc4, 0.27.0rc5, 0.27.0, 0.27.1, 0.27.2, 0.28.0rc0, 0.28.0rc1, 0.28.0rc2, 0.28.0rc3, 0.28.0, 0.28.1, 0.28.2, 0.28.3, 0.28.4, 0.28.5, 0.28.6, 0.28.7, 0.28.8, 0.28.10, 0.28.11, 0.28.12, 0.28.13, 0.28.14, 0.28.15, 0.29.0rc0, 0.29.0, 0.29.1, 0.29.2, 0.30.0rc0, 0.30.0rc1, 0.30.0, 0.30.1, 0.30.2, 0.30.3, 0.30.4, 0.30.5, 0.30.6, 0.31.0rc0, 0.31.0rc1, 0.31.0rc2, 0.31.0, 0.31.1, 0.31.2, 0.31.3, 0.31.4, 0.31.5, 0.31.6, 0.31.7, 0.31.8, 0.31.9, 0.31.10, 0.31.11, 0.31.12, 0.32.0rc0, 0.32.0rc1, 0.32.0, 0.32.1, 0.33.0rc0, 0.33.0rc1, 0.33.0, 0.33.1, 0.33.2, 0.33.3, 0.33.4, 0.33.5, 0.33.6, 0.33.7, 0.33.8, 0.33.9, 0.33.10, 0.33.11, 0.33.12, 0.34.0rc0, 0.34.0rc1, 0.34.0rc2, 0.34.0, 0.34.1, 0.34.2, 0.34.3, 0.34.4, 0.34.5, 0.34.6, 0.34.7, 0.34.8, 0.34.9, 0.34.10, 0.34.11, 0.34.12, 0.35.0rc0, 0.35.0rc1, 0.35.0rc2, 0.35.0, 0.35.1, 0.35.2, 0.35.3, 0.35.4, 0.35.5, 0.35.6, 1.0.0a0, 1.0.0a1, 1.0.0a2, 1.0.0a3, 1.0.0a4, 1.0.0a5, 1.0.0a6, 1.0.0a7, 1.0.0a8, 1.0.0a9, 1.0.0a10, 1.0.0rc0, 1.0.0rc1, 1.0.0, 1.0.1, 1.0.2, 1.0.3, 1.0.4, 1.0.5, 1.0.6, 1.0.7, 1.0.9, 1.0.10, 1.1.0a0, 1.1.0a1, 1.1.0a2, 1.1.0rc0, 1.1.0, 1.1.1, 1.1.2, 1.1.3, 1.1.4, 1.1.5, 1.2.0a0, 1.2.0a1, 1.2.0a2, 1.2.0a3, 1.2.0rc0, 1.2.0, 1.2.1, 1.2.2, 1.2.3, 1.2.4, 1.2.5, 1.2.6, 1.2.7, 1.2.8, 1.2.9, 1.2.10, 1.2.11, 1.2.12, 1.2.13, 1.2.14, 1.2.15, 1.2.16, 1.2.17, 1.2.18, 1.2.19, 1.2.20, 1.2.21, 2.0.0a0, 2.0.0a1, 2.0.0a3, 2.0.0a4, 2.0.0b1, 2.0.0b2, 2.0.0b3, 2.0.0rc0, 2.0.0rc1, 2.0.0rc2, 2.0.0, 2.0.1rc0, 2.0.1, 2.0.2, 2.1.0a0, 2.1.0b0, 2.1.0rc0, 2.1.0, 2.1.1, 2.1.2, 2.1.3, 2.1.4, 2.1.5, 2.2.0a0, 2.2.0a1, 2.2.0rc1, 2.2.0, 2.2.1, 2.2.2, 2.2.4, 2.2.5, 2.2.6, 2.2.7, 2.2.8, 2.2.9, 2.2.10, 2.3.0a0, 2.3.0a1, 2.3.0a2, 2.3.0rc0, 2.3.0, 2.3.1, 2.3.2, 3.0.0a0, 3.0.0a3, 3.0.0a4, 3.0.0a5, 3.0.0a6, 3.0.0a7, 3.0.0a8, 3.0.0a9, 3.0.0a10, 3.0.0a11, 3.0.0a12, 3.0.0a13, 3.0.0a14, 3.0.0b1, 3.0.0b2, 3.0.0b3, 3.0.0b4, 3.0.0b6, 3.0.0b7, 3.0.0b8, 3.0.0rc0, 3.0.0rc1, 3.0.0rc2, 3.0.0rc3, 3.0.0rc4, 3.0.0rc5, 3.0.0rc6, 3.0.0rc7, 3.0.0rc8, 3.0.0rc9, 3.0.0rc10, 3.0.0rc11, 3.0.0rc12, 3.0.0rc13, 3.0.0rc14, 3.0.0rc15, 3.0.0, 3.0.1, 3.0.2, 3.0.3, 3.0.4, 3.0.5, 3.0.6, 3.0.7, 3.0.8, 3.0.9, 3.0.10, 3.0.11, 3.0.12, 3.0.13, 3.0.14, 3.0.15, 3.0.16, 3.0.17, 3.0.18, 3.1.0a0, 3.1.0a1, 3.1.0a2, 3.1.0a3, 3.1.0a4, 3.1.0a5, 3.1.0a6, 3.1.0a7, 3.1.0a8, 3.1.0a9, 3.1.0a10, 3.1.0a11, 3.1.0a12, 3.1.0a13, 3.1.0b0, 3.1.0b1, 3.1.0rc1, 3.1.0rc2, 3.1.0, 3.1.1, 3.1.2, 3.1.4, 3.1.6, 3.1.7, 3.1.8, 3.1.9, 3.1.10, 3.1.11, 3.1.12, 3.1.13, 3.1.14, 3.1.16, 3.1.17, 3.1.18, 3.1.19, 3.2.0a0, 3.2.0a1, 3.2.0b0, 3.2.0rc0, 3.2.0, 3.2.1, 3.2.2, 3.2.3, 3.2.4, 3.2.5, 3.2.6, 3.2.7, 3.2.8, 3.2.9, 3.3.0a1, 3.3.0a2, 3.3.0a3, 3.3.0b0, 3.3.0rc0, 3.3.0, 3.3.1, 3.3.2, 3.3.3, 3.3.4, 3.4.0a0, 3.4.0b0, 3.4.0rc0, 3.4.0, 3.4.1, 3.4.2, 3.4.3, 3.4.4, 3.4.5, 3.4.6, 3.4.7, 3.4.8, 3.5.0a0, 3.5.0b0, 3.5.0rc0, 3.5.0, 3.5.1, 3.5.2, 3.5.3, 3.6.0a0, 3.6.0a1, 3.6.0a2, 3.6.0a3, 3.6.0a4, 3.6.0a5, 3.6.0b0, 3.6.0rc0, 3.6.0rc1, 3.6.0, 3.6.1, 3.6.2, 3.6.3, 4.0.0a0, 4.0.0a1, 4.0.0a3, 4.0.0a4, 4.0.0a6, 4.0.0a7, 4.0.0a8, 4.0.0a9, 4.0.0a10, 4.0.0a11, 4.0.0a12, 4.0.0a13, 4.0.0a14, 4.0.0a15, 4.0.0a16, 4.0.0a17, 4.0.0a18, 4.0.0a19, 4.0.0a20, 4.0.0a21, 4.0.0a22, 4.0.0a23, 4.0.0a24, 4.0.0a25, 4.0.0a26, 4.0.0a27, 4.0.0a28, 4.0.0a29, 4.0.0a30, 4.0.0a31, 4.0.0a32, 4.0.0a33, 4.0.0a34, 4.0.0a35, 4.0.0a36, 4.0.0a37, 4.0.0b0, 4.0.0b1, 4.0.0b2, 4.0.0rc0, 4.0.0rc1)\n",
      "Traceback (most recent call last):\n",
      "  File \"d:\\X-S01\\conda3\\envs\\vsc\\lib\\site-packages\\pip\\_vendor\\resolvelib\\resolvers.py\", line 348, in resolve\n",
      "    self._add_to_criteria(self.state.criteria, r, parent=None)\n",
      "  File \"d:\\X-S01\\conda3\\envs\\vsc\\lib\\site-packages\\pip\\_vendor\\resolvelib\\resolvers.py\", line 173, in _add_to_criteria\n",
      "    raise RequirementsConflicted(criterion)\n",
      "pip._vendor.resolvelib.resolvers.RequirementsConflicted: Requirements conflict: SpecifierRequirement('jupyterlab>=4.0.0')\n",
      "\n",
      "During handling of the above exception, another exception occurred:\n",
      "\n",
      "Traceback (most recent call last):\n",
      "  File \"d:\\X-S01\\conda3\\envs\\vsc\\lib\\site-packages\\pip\\_internal\\resolution\\resolvelib\\resolver.py\", line 92, in resolve\n",
      "    result = self._result = resolver.resolve(\n",
      "  File \"d:\\X-S01\\conda3\\envs\\vsc\\lib\\site-packages\\pip\\_vendor\\resolvelib\\resolvers.py\", line 481, in resolve\n",
      "    state = resolution.resolve(requirements, max_rounds=max_rounds)\n",
      "  File \"d:\\X-S01\\conda3\\envs\\vsc\\lib\\site-packages\\pip\\_vendor\\resolvelib\\resolvers.py\", line 350, in resolve\n",
      "    raise ResolutionImpossible(e.criterion.information)\n",
      "pip._vendor.resolvelib.resolvers.ResolutionImpossible: [RequirementInformation(requirement=SpecifierRequirement('jupyterlab>=4.0.0'), parent=None)]\n",
      "\n",
      "The above exception was the direct cause of the following exception:\n",
      "\n",
      "Traceback (most recent call last):\n",
      "  File \"d:\\X-S01\\conda3\\envs\\vsc\\lib\\runpy.py\", line 197, in _run_module_as_main\n",
      "    return _run_code(code, main_globals, None,\n",
      "  File \"d:\\X-S01\\conda3\\envs\\vsc\\lib\\runpy.py\", line 87, in _run_code\n",
      "    exec(code, run_globals)\n",
      "  File \"d:\\X-S01\\conda3\\envs\\vsc\\lib\\site-packages\\piptools\\__main__.py\", line 19, in <module>\n",
      "    cli()\n",
      "  File \"d:\\X-S01\\conda3\\envs\\vsc\\lib\\site-packages\\click\\core.py\", line 1130, in __call__\n",
      "    return self.main(*args, **kwargs)\n",
      "  File \"d:\\X-S01\\conda3\\envs\\vsc\\lib\\site-packages\\click\\core.py\", line 1055, in main\n",
      "    rv = self.invoke(ctx)\n",
      "  File \"d:\\X-S01\\conda3\\envs\\vsc\\lib\\site-packages\\click\\core.py\", line 1657, in invoke\n",
      "    return _process_result(sub_ctx.command.invoke(sub_ctx))\n",
      "  File \"d:\\X-S01\\conda3\\envs\\vsc\\lib\\site-packages\\click\\core.py\", line 1404, in invoke\n",
      "    return ctx.invoke(self.callback, **ctx.params)\n",
      "  File \"d:\\X-S01\\conda3\\envs\\vsc\\lib\\site-packages\\click\\core.py\", line 760, in invoke\n",
      "    return __callback(*args, **kwargs)\n",
      "  File \"d:\\X-S01\\conda3\\envs\\vsc\\lib\\site-packages\\click\\decorators.py\", line 26, in new_func\n",
      "    return f(get_current_context(), *args, **kwargs)\n",
      "  File \"d:\\X-S01\\conda3\\envs\\vsc\\lib\\site-packages\\piptools\\scripts\\compile.py\", line 589, in cli\n",
      "    results = resolver.resolve(max_rounds=max_rounds)\n",
      "  File \"d:\\X-S01\\conda3\\envs\\vsc\\lib\\site-packages\\piptools\\resolver.py\", line 590, in resolve\n",
      "    is_resolved = self._do_resolve(\n",
      "  File \"d:\\X-S01\\conda3\\envs\\vsc\\lib\\site-packages\\piptools\\resolver.py\", line 622, in _do_resolve\n",
      "    resolver.resolve(\n",
      "  File \"d:\\X-S01\\conda3\\envs\\vsc\\lib\\site-packages\\pip\\_internal\\resolution\\resolvelib\\resolver.py\", line 101, in resolve\n",
      "    raise error from e\n",
      "pip._internal.exceptions.DistributionNotFound: No matching distribution found for jupyterlab>=4.0.0\n"
     ]
    }
   ],
   "source": [
    "# 生成 windows AMD64平台的依赖清单\n",
    "# win.requirements.in 的 UTF-8 编码请不要更改，不要在里面写入中文\n",
    "# 运行前，检查所有已安装包的可执行文件是否均未在运行（例如 jupyter），避免占用或锁定导致的报错。同时也请注意：运行该命令会覆盖当前环境已安装的包（可在 win.requirements.in 锁版本）\n",
    "# 使用的源会影响是否找到所有 win.requirements.in 中列出的包，这是由于有些镜像收录不全或者版本更新延后，此时如果网络允许可以使用官方 PyPi 源。一般情况下推荐使用腾讯云镜像加速 -i https://mirrors.tencent.com/pypi/simple\n",
    "!python -m piptools compile --quiet --upgrade --resolver=backtracking win.requirements.in --output-file win.requirements.txt"
   ]
  },
  {
   "cell_type": "code",
   "execution_count": null,
   "id": "76c76381-8943-4c8f-b787-372ddf6543b1",
   "metadata": {
    "tags": []
   },
   "outputs": [],
   "source": [
    "!pip-sync win.requirements.txt --pip-args \"--quiet --retries 10 --timeout 30\""
   ]
  },
  {
   "attachments": {},
   "cell_type": "markdown",
   "id": "2de8b9b3-ef22-4813-8f8e-5d75e9f9e031",
   "metadata": {},
   "source": [
    "<h1>初始化工作</h1>"
   ]
  },
  {
   "cell_type": "code",
   "execution_count": null,
   "id": "6c9bf879-abad-48b0-ae16-5fab7ae5cf23",
   "metadata": {},
   "outputs": [],
   "source": [
    "# REF https://nbdime.readthedocs.io/en/latest/\n",
    "# 激活差异对比工具\n",
    "# 对于 Binder 或者 docker ，这一步不需要手动执行\n",
    "!nbdime config-git --enable --global"
   ]
  },
  {
   "cell_type": "code",
   "execution_count": 3,
   "id": "9559a3e8-26b6-4ba2-b4e9-1cb5d4e73b7a",
   "metadata": {
    "execution": {
     "iopub.execute_input": "2023-02-25T03:16:00.193527Z",
     "iopub.status.busy": "2023-02-25T03:16:00.192526Z",
     "iopub.status.idle": "2023-02-25T03:16:00.199533Z",
     "shell.execute_reply": "2023-02-25T03:16:00.199533Z",
     "shell.execute_reply.started": "2023-02-25T03:16:00.193527Z"
    },
    "tags": []
   },
   "outputs": [],
   "source": [
    "# 添加模板路径，jupyter_server_config.py文件路径和template_dirs路径因人而异\n",
    "# 此实例中，实际模板存放位置为 D:\\TEMP\\jlab\\notebook\\repo\\templates\\jupyterlab_templates ，放在 jupyterlab_templates 子文件夹是规定\n",
    "# 注意是追加模式，此代码块应当仅执行一次。可以用VSCode打开jupyter_server_config.py文件手动修改\n",
    "with open(r\"C:\\Users\\Administrator\\.jupyter\\jupyter_server_config.py\", \"a\", encoding=\"utf-8\") as f:\n",
    "    f.write('''\n",
    "c.JupyterLabTemplates.template_dirs = [r\"D:\\\\TEMP\\\\jlab\\\\notebook\\\\repo\\\\templates\"]\n",
    "c.JupyterLabTemplates.include_default = True\n",
    "c.JupyterLabTemplates.include_core_paths = True\n",
    "''')"
   ]
  }
 ],
 "metadata": {
  "kernelspec": {
   "display_name": "vsc",
   "language": "python",
   "name": "python3"
  },
  "language_info": {
   "codemirror_mode": {
    "name": "ipython",
    "version": 3
   },
   "file_extension": ".py",
   "mimetype": "text/x-python",
   "name": "python",
   "nbconvert_exporter": "python",
   "pygments_lexer": "ipython3",
   "version": "3.9.16"
  },
  "vscode": {
   "interpreter": {
    "hash": "d29923209757773b8be5720ecbaabb5391f5aad607df28ecad4f03d272e7cefd"
   }
  },
  "widgets": {
   "application/vnd.jupyter.widget-state+json": {
    "state": {},
    "version_major": 2,
    "version_minor": 0
   }
  }
 },
 "nbformat": 4,
 "nbformat_minor": 5
}
