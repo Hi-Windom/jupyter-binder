{
 "cells": [
  {
   "attachments": {},
   "cell_type": "markdown",
   "id": "9ce9dc8a-37bd-4c05-b88e-df5801d2a93e",
   "metadata": {},
   "source": [
    "<h1 id=\"原生依赖管理\">原生依赖管理</h1>\n",
    "<blockquote>\n",
    "<p>不推荐使用</p>\n",
    "</blockquote>"
   ]
  },
  {
   "cell_type": "code",
   "execution_count": null,
   "id": "ab1bac9c-ce31-4810-acea-014bdd6cd7fa",
   "metadata": {
    "tags": []
   },
   "outputs": [],
   "source": [
    "!pip freeze > dirty.requirements.txt"
   ]
  },
  {
   "cell_type": "code",
   "execution_count": null,
   "id": "b976282d-8cf5-44f8-bddb-f657d253dc70",
   "metadata": {
    "tags": []
   },
   "outputs": [],
   "source": [
    "%pip install -r dirty.requirements.txt -i https://mirrors.tencent.com/pypi/simple"
   ]
  },
  {
   "attachments": {},
   "cell_type": "markdown",
   "id": "a428e102-eb76-49bf-bb8e-7267cfae5f4a",
   "metadata": {
    "tags": []
   },
   "source": [
    "<h1 id=\"适用于Binder的依赖管理\">适用于<span style=\"font-size: 24pt;\"><a style=\"font-weight: 400; color: #3598db;\" href=\"https://mybinder.org/\" target=\"_blank\" rel=\"noopener\">Binder</a></span>的依赖管理</h1>"
   ]
  },
  {
   "attachments": {},
   "cell_type": "markdown",
   "id": "b26d6ee8-fd2b-4e9c-9453-678d8cb544af",
   "metadata": {},
   "source": [
    "<p><span style=\"color: #169179;\">生成 binder 专用的依赖清单（linux）应当在 linux 环境下进行，Windows 电脑可使用 WSL2，建议的发行版是 Debian 11</span></p>\n",
    "<p><span style=\"color: #169179;\">首先运行命令 <code>pip -V</code> 检查，Python 版本应当与 <code>runtime.txt</code> 约定的一致</span></p>\n",
    "<p><span style=\"color: #169179;\">确认生成 requirements.txt &nbsp;</span><span style=\"color: #169179;\"><code>pip-compile --quiet --upgrade --resolver=backtracking requirements.in</code></span></p>\n",
    "<p>&nbsp;</p>"
   ]
  },
  {
   "attachments": {},
   "cell_type": "markdown",
   "id": "b8ade299-2fbd-435f-8e78-e56f0eab7e76",
   "metadata": {},
   "source": [
    "<h1>甜蜜蜜的依赖管理</h1>"
   ]
  },
  {
   "attachments": {},
   "cell_type": "markdown",
   "id": "6281db30-496b-4496-a16f-f78650012617",
   "metadata": {},
   "source": [
    "<p><span style=\"color: #169179;\">这是绝佳的依赖管理，只需要保持一致的 Windows + Python 3.10</span></p>\n",
    "<p><span style=\"color: #169179;\">根据 README.md 复苏说明，随时随地部署 Jupyter Lab ，就如同安装普通软件一样简单</span></p>"
   ]
  },
  {
   "attachments": {},
   "cell_type": "markdown",
   "id": "bd676544",
   "metadata": {},
   "source": [
    "硬盘I/O性能会显著影响 jupyter 运行性能！\n",
    "假如 conda 安装位置所在硬盘I/O性能较差，可选的步骤是指定新虚拟环境的路径 `conda create -p G:\\\\BDC\\\\conda\\\\lab python=3.10` ，其中 `lab` 是虚拟环境名称，通过指定路径方式创建的虚拟环境与普通虚拟环境不同，使用 `conda activate G:\\\\BDC\\\\conda\\\\lab` 激活而不是 `conda activate lab`"
   ]
  },
  {
   "attachments": {},
   "cell_type": "markdown",
   "id": "3141eaea",
   "metadata": {},
   "source": [
    "使用 vscode 重新打开本 notebook 文件，切换虚拟环境为上面创建的虚拟环境，运行下面的命令\n",
    "\n",
    "如果 vscode 提示需要 ipykernel 包，点击【安装】选项，会自动安装。如果是指定路径创建的虚拟环境，ipykernel 包可能无法由 vscode 成功安装，解决办法：在终端环境激活上面创建的虚拟环境，使用 `pip install ipykernel` 安装 ipykernel 包，然后执行 `python -m ipykernel install --user --name=lab` 注册内核即可（特别说明：--name=lab 中的 lab 并非必须和虚拟环境名称一致）"
   ]
  },
  {
   "cell_type": "code",
   "execution_count": null,
   "id": "acaff651-0be6-41d2-b41a-0ea552b813fa",
   "metadata": {},
   "outputs": [],
   "source": [
    "# 已安装则不需要重复运行此命令\n",
    "%pip install pip-tools -i https://mirrors.tencent.com/pypi/simple"
   ]
  },
  {
   "attachments": {},
   "cell_type": "markdown",
   "id": "13189ef6",
   "metadata": {},
   "source": [
    "### 备份/恢复 二选一"
   ]
  },
  {
   "attachments": {},
   "cell_type": "markdown",
   "id": "30e2c72a",
   "metadata": {},
   "source": [
    "### 生成依赖清单"
   ]
  },
  {
   "cell_type": "code",
   "execution_count": 12,
   "id": "208ebefc-053d-486d-af30-3d95e3eee16f",
   "metadata": {
    "execution": {
     "iopub.execute_input": "2023-02-25T03:49:59.368407Z",
     "iopub.status.busy": "2023-02-25T03:49:59.368407Z",
     "iopub.status.idle": "2023-02-25T03:53:05.947878Z",
     "shell.execute_reply": "2023-02-25T03:53:05.947878Z",
     "shell.execute_reply.started": "2023-02-25T03:49:59.368407Z"
    },
    "tags": []
   },
   "outputs": [],
   "source": [
    "# 生成 windows AMD64平台的依赖清单\n",
    "# win.requirements.in 的 UTF-8 编码请不要更改，不要在里面写入中文\n",
    "# 运行前，检查所有已安装包的可执行文件是否均未在运行（例如 jupyter），避免占用或锁定导致的报错。\n",
    "# 使用的源会影响是否找到所有 win.requirements.in 中列出的包（主要是指定了版本范围的），这是由于有些镜像收录不全或者版本更新延后，此时如果网络允许可以使用官方 PyPi 源 -i https://pypi.org/simple\n",
    "# 一般情况下推荐使用腾讯云镜像加速 -i https://mirrors.tencent.com/pypi/simple\n",
    "# 特别注意：下面的命令只有在本 notebook 文件在 vscode 中打开并选择了正确的虚拟环境下才可以直接执行，其他情况需要作出适当修改\n",
    "!python -m piptools compile --quiet --upgrade --resolver=backtracking win.requirements.in --output-file win.requirements.txt -i https://mirrors.tencent.com/pypi/simple"
   ]
  },
  {
   "attachments": {},
   "cell_type": "markdown",
   "id": "59d848f9",
   "metadata": {},
   "source": [
    "### 根据依赖清单安装包\n",
    "\n",
    "> 可使用 `pip list` 检查已安装的包， `pip list --outdated` 检查过时的包"
   ]
  },
  {
   "cell_type": "code",
   "execution_count": null,
   "id": "76c76381-8943-4c8f-b787-372ddf6543b1",
   "metadata": {
    "tags": []
   },
   "outputs": [],
   "source": [
    "!pip-sync win.requirements.txt --pip-args \"--quiet --retries 10 --timeout 30 --index-url https://mirrors.tencent.com/pypi/simple\""
   ]
  },
  {
   "attachments": {},
   "cell_type": "markdown",
   "id": "e0f00f71",
   "metadata": {},
   "source": [
    "### 启动 jupyter lab"
   ]
  },
  {
   "attachments": {},
   "cell_type": "markdown",
   "id": "0de3c578",
   "metadata": {},
   "source": [
    "在 PowerShell 终端运行下面的命令\n",
    "\n",
    "```powershell\n",
    "jupyter lab --port='6969' --ip='*' --no-browser --allow-root --notebook-dir='D:\\\\TEMP\\\\jlab\\\\notebook'\n",
    "```\n",
    "\n",
    "--notebook-dir 传参因人而异，不出意外的话复苏成功。在终端 CTRL + 单击链接或者手动打开浏览器访问 [http://127.0.0.1:6969/lab](http://127.0.0.1:6969/lab) ，时间交给你了\n",
    "\n",
    "或者，直接运行下面的代码块 FH92Y，然后手动打开浏览器访问 [http://127.0.0.1:6969/lab](http://127.0.0.1:6969/lab)。"
   ]
  },
  {
   "cell_type": "code",
   "execution_count": null,
   "id": "e047a3f1",
   "metadata": {},
   "outputs": [],
   "source": [
    "# 代码块 FH92Y\n",
    "!jupyter lab --port=6969 --ip=* --no-browser --allow-root --notebook-dir=\"D:\\\\TEMP\\\\jlab\\\\notebook\""
   ]
  },
  {
   "attachments": {},
   "cell_type": "markdown",
   "id": "6afd381f",
   "metadata": {},
   "source": [
    "并不推荐直接运行上面代码块 FH92Y 这种方式，仅供测试使用，且需要 `netstat -ano | findstr :6969` 配合 `taskkill /f /pid` 手动结束进程。"
   ]
  },
  {
   "attachments": {},
   "cell_type": "markdown",
   "id": "abddfb47",
   "metadata": {},
   "source": [
    "最后，可以通过下面的 C++ 代码构建一个可执行程序，只需要双击该程序即可快速运行 jupyter lab，也可以完成集成到其他软件，加入开机自启等操作\n",
    "\n",
    "注意事项：\n",
    "\n",
    "1. `conda activate lab` 可能需要根据前面的操作调整为 `conda activate G:\\\\BDC\\\\conda\\\\lab`\n",
    "2. --notebook-dir 传参修改为正确的路径\n",
    "\n",
    "```cpp\n",
    "#include <stdlib.h>\n",
    "#include <Windows.h>\n",
    "#include <shellapi.h>\n",
    "#include <WinUser.h>\n",
    "#pragma comment( linker, \"/subsystem:\\\"windows\\\" /entry:\\\"mainCRTStartup\\\"\" ) // 设置入口地址，隐藏控制台窗口\n",
    "\n",
    "using namespace std;\n",
    "\n",
    "int main()\n",
    "{\n",
    "    // 如果 python 是 64位的，则生成对应的 x64 (64位) 程序\n",
    "    ShellExecute(NULL, L\"open\", L\"powershell\", L\"conda activate lab;jupyter lab --port='6969' --ip='*' --no-browser --allow-root --notebook-dir='D:\\\\TEMP\\\\jlab\\\\notebook'\", NULL, SW_SHOWMINNOACTIVE);\n",
    "    // 循环检测本地端口连通性，成功则自动打开指定链接。一般用不上，因为 6969 端口可能被占用，此时 jupyter lab 将使用 6970 端口，具体使用端口以控制台输出为准\n",
    "    /*ShellExecute(NULL, L\"open\", L\"powershell\", L\"do{$ff=Test-NetConnection 127.0.0.1 -p 6969;\\\n",
    "if($ff.TcpTestSucceeded -eq 'True'){start http://127.0.0.1:6969/lab}}until($ff.TcpTestSucceeded -eq 'False')\", NULL, SW_HIDE);*/\n",
    "}\n",
    "\n",
    "/* 最后的那个参数，为窗口指定可视性方面的一个命令。 请用下述任何一个常数\n",
    "* SW_HIDE 隐藏窗口，活动状态给令一个窗口\n",
    "* SW_MINIMIZE 最小化窗口，活动状态给令一个窗口\n",
    "* SW_RESTORE 用原来的大小和位置显示一个窗口，同时令其进入活动状态\n",
    "* SW_SHOW 用当前的大小和位置显示一个窗口，同时令其进入活动状态\n",
    "* SW_SHOWMAXIMIZED 最大化窗口，并将其激活\n",
    "* SW_SHOWMINIMIZED 最小化窗口，并将其激活\n",
    "* SW_SHOWMINNOACTIVE 最小化一个窗口，同时不改变活动窗口\n",
    "* SW_SHOWNA 用当前的大小和位置显示一个窗口，不改变活动窗口\n",
    "* SW_SHOWNOACTIVATE 用最近的大小和位置\n",
    "* SW_SHOWNORMAL 正常显示\n",
    "*/\n",
    "```"
   ]
  },
  {
   "attachments": {},
   "cell_type": "markdown",
   "id": "2de8b9b3-ef22-4813-8f8e-5d75e9f9e031",
   "metadata": {},
   "source": [
    "<h1>初始化工作</h1>"
   ]
  },
  {
   "cell_type": "code",
   "execution_count": null,
   "id": "6c9bf879-abad-48b0-ae16-5fab7ae5cf23",
   "metadata": {},
   "outputs": [],
   "source": [
    "# REF https://nbdime.readthedocs.io/en/latest/\n",
    "# 激活差异对比工具\n",
    "# 对于 Binder 或者 docker ，这一步不需要手动执行\n",
    "%nbdime config-git --enable --global"
   ]
  },
  {
   "cell_type": "code",
   "execution_count": 3,
   "id": "9559a3e8-26b6-4ba2-b4e9-1cb5d4e73b7a",
   "metadata": {
    "execution": {
     "iopub.execute_input": "2023-02-25T03:16:00.193527Z",
     "iopub.status.busy": "2023-02-25T03:16:00.192526Z",
     "iopub.status.idle": "2023-02-25T03:16:00.199533Z",
     "shell.execute_reply": "2023-02-25T03:16:00.199533Z",
     "shell.execute_reply.started": "2023-02-25T03:16:00.193527Z"
    },
    "tags": []
   },
   "outputs": [],
   "source": [
    "# 添加模板路径，jupyter_server_config.py文件路径和template_dirs路径因人而异\n",
    "# 此实例中，实际模板存放位置为 D:\\TEMP\\jlab\\notebook\\repo\\templates\\jupyterlab_templates ，放在 jupyterlab_templates 子文件夹是规定\n",
    "# 注意是追加模式，此代码块应当仅执行一次。可以用VSCode打开jupyter_server_config.py文件手动修改\n",
    "with open(r\"C:\\Users\\Administrator\\.jupyter\\jupyter_server_config.py\", \"a\", encoding=\"utf-8\") as f:\n",
    "    f.write('''\n",
    "c.JupyterLabTemplates.template_dirs = [r\"D:\\\\TEMP\\\\jlab\\\\notebook\\\\repo\\\\templates\"]\n",
    "c.JupyterLabTemplates.include_default = True\n",
    "c.JupyterLabTemplates.include_core_paths = True\n",
    "''')"
   ]
  }
 ],
 "metadata": {
  "kernelspec": {
   "display_name": "vsc",
   "language": "python",
   "name": "python3"
  },
  "language_info": {
   "codemirror_mode": {
    "name": "ipython",
    "version": 3
   },
   "file_extension": ".py",
   "mimetype": "text/x-python",
   "name": "python",
   "nbconvert_exporter": "python",
   "pygments_lexer": "ipython3",
   "version": "3.10.11"
  },
  "vscode": {
   "interpreter": {
    "hash": "d29923209757773b8be5720ecbaabb5391f5aad607df28ecad4f03d272e7cefd"
   }
  },
  "widgets": {
   "application/vnd.jupyter.widget-state+json": {
    "state": {},
    "version_major": 2,
    "version_minor": 0
   }
  }
 },
 "nbformat": 4,
 "nbformat_minor": 5
}
