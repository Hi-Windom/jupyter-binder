{
 "cells": [
  {
   "attachments": {},
   "cell_type": "markdown",
   "metadata": {},
   "source": [
    "# 从远端（比如Github）下载仓库\n",
    "> 仓库必须是公开的"
   ]
  },
  {
   "cell_type": "code",
   "execution_count": null,
   "metadata": {},
   "outputs": [],
   "source": [
    "import nbtools,os\n",
    "\n",
    "@nbtools.build_ui\n",
    "def git_clone(仓库地址='https://github.com/Soltus/jlab-study-2023.git'):\n",
    "    \"\"\"下载任意 Git 远端仓库\"\"\"\n",
    "    os.system(f'''git clone {仓库地址}\n",
    "success=$?\n",
    "if [ $success -eq 0 ];\n",
    "then\n",
    "    echo \"Repository successfully cloned.\"\n",
    "else\n",
    "    echo Repository cloning failed.\n",
    "fi\n",
    "''')"
   ]
  },
  {
   "attachments": {},
   "cell_type": "markdown",
   "metadata": {},
   "source": [
    "# 解决依赖\n",
    "> 可选的步骤"
   ]
  },
  {
   "cell_type": "code",
   "execution_count": null,
   "metadata": {},
   "outputs": [],
   "source": [
    "import nbtools,os\n",
    "\n",
    "@nbtools.build_ui\n",
    "def mamba_solve(配置文件路径='/jlab-study-2023/',conda虚拟环境名='base',runner='mamba'):\n",
    "    \"\"\"\n",
    "    (1) 配置文件路径: 例如 /jlab-study-2023/ （开头和结尾的斜杠不可省略！）; \n",
    "    (2) conda虚拟环境名: 默认为 base ; \n",
    "    (3) runner: Binder 环境推荐使用 mamba （ conda 没有的包 mamba 无法解决 ），Windows 本地环境推荐使用 pip-tools; \n",
    "    (4) mamba 使用 environment.yml 作为配置文件，pip-tools 使用 requirements.txt 作为配置文件; \n",
    "    \"\"\"\n",
    "    print(f\"/home/jovyan{配置文件路径}\")\n",
    "    print(conda虚拟环境名)\n",
    "    print(runner)"
   ]
  }
 ],
 "metadata": {
  "kernelspec": {
   "display_name": "Python 3",
   "language": "python",
   "name": "python3"
  },
  "language_info": {
   "name": "python",
   "version": "3.9.13"
  },
  "orig_nbformat": 4,
  "vscode": {
   "interpreter": {
    "hash": "11938c6bc6919ae2720b4d5011047913343b08a43b18698fd82dedb0d4417594"
   }
  }
 },
 "nbformat": 4,
 "nbformat_minor": 2
}
