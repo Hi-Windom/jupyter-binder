{
 "cells": [
  {
   "cell_type": "code",
   "execution_count": null,
   "metadata": {},
   "outputs": [],
   "source": [
    "import nbtools,os\n",
    "\n",
    "@nbtools.build_ui\n",
    "def git_clone(仓库地址='https://github.com/Soltus/jlab-study-2023.git'):\n",
    "    \"\"\"下载任意 Git 远端仓库\"\"\"\n",
    "    os.system(f\"git clone {仓库地址}\")"
   ]
  }
 ],
 "metadata": {
  "language_info": {
   "name": "python"
  },
  "orig_nbformat": 4
 },
 "nbformat": 4,
 "nbformat_minor": 2
}
